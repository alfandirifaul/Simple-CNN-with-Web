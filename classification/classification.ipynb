{
 "cells": [
  {
   "metadata": {},
   "cell_type": "markdown",
   "source": "1. Import necessary libraries",
   "id": "342370ffec1a0378"
  },
  {
   "cell_type": "code",
   "id": "initial_id",
   "metadata": {
    "collapsed": true,
    "ExecuteTime": {
     "end_time": "2025-08-08T10:18:00.423962Z",
     "start_time": "2025-08-08T10:17:57.924968Z"
    }
   },
   "source": [
    "# Import necessary libraries\n",
    "print(\"Import necessary libraries\")\n",
    "import tensorflow as tf\n",
    "import numpy as np\n",
    "import matplotlib.pyplot as plt\n",
    "import os\n",
    "import yaml\n",
    "import warnings"
   ],
   "outputs": [
    {
     "name": "stdout",
     "output_type": "stream",
     "text": [
      "Import necessary libraries\n"
     ]
    }
   ],
   "execution_count": 1
  },
  {
   "metadata": {},
   "cell_type": "markdown",
   "source": "2. Configure settings",
   "id": "dce080cbbb9ebb65"
  },
  {
   "metadata": {
    "ExecuteTime": {
     "end_time": "2025-08-08T10:18:00.431872Z",
     "start_time": "2025-08-08T10:18:00.428183Z"
    }
   },
   "cell_type": "code",
   "source": [
    "# First of all read parameters from configuration file\n",
    "assert os.path.exists('../configuration.yaml'), \"Configuration file 'configuration.yaml' not found.\"\n",
    "with open('../configuration.yaml') as file:\n",
    "    parameters = yaml.safe_load(file)\n",
    "\n",
    "# Check the parameters\n",
    "assert parameters['batchSize'] > 0, \"Batch size must be greater than 0.\"\n",
    "assert parameters['imgHeight'] == parameters['imgWidth'], \"Image height and width must be equal.\"\n",
    "assert parameters['trainDatasetPath'] is not None, \"Train dataset path must be specified.\"\n",
    "assert parameters['epochs'] > 0, \"Number of epochs must be greater than 0.\"\n",
    "\n",
    "# If everything is ok, print the parameters\n",
    "print(\"[INFO] Configuration parameters...\")\n",
    "print(\"* Batch size........................:\", parameters['batchSize'])\n",
    "print(\"* Image height......................:\", parameters['imgHeight'])\n",
    "print(\"* Image width.......................:\", parameters['imgWidth'])\n",
    "print(\"* Train dataset path................:\", parameters['trainDatasetPath'])\n",
    "print(\"* Number of epochs..................:\", parameters['epochs'])\n",
    "\n",
    "# Ignore warnings\n",
    "warnings.filterwarnings(\n",
    "    \"ignore\", category=UserWarning\n",
    ")"
   ],
   "id": "6bf4c464f0568630",
   "outputs": [
    {
     "name": "stdout",
     "output_type": "stream",
     "text": [
      "[INFO] Configuration parameters...\n",
      "* Batch size........................: 32\n",
      "* Image height......................: 180\n",
      "* Image width.......................: 180\n",
      "* Train dataset path................: data/train\n",
      "* Number of epochs..................: 5\n"
     ]
    }
   ],
   "execution_count": 2
  },
  {
   "metadata": {},
   "cell_type": "markdown",
   "source": "3. Create necessary functions",
   "id": "f345bdfa9075e32"
  },
  {
   "metadata": {
    "ExecuteTime": {
     "end_time": "2025-08-08T10:18:00.546419Z",
     "start_time": "2025-08-08T10:18:00.543040Z"
    }
   },
   "cell_type": "code",
   "source": [
    "# Function to load the dataset\n",
    "def loadDataset(path, batchsz, imgHeight, imgWidth):\n",
    "    print(\"[INFO] Loading dataset...\")\n",
    "\n",
    "    trainDataset = tf.keras.utils.image_dataset_from_directory(\n",
    "        path,\n",
    "        validation_split=0.2,\n",
    "        subset=\"training\",\n",
    "        seed=123,\n",
    "        image_size=(imgHeight, imgWidth),\n",
    "        batch_size=batchsz\n",
    "    )\n",
    "\n",
    "    validDataset = tf.keras.utils.image_dataset_from_directory(\n",
    "        path,\n",
    "        validation_split=0.2,\n",
    "        subset=\"validation\",\n",
    "        seed=123,\n",
    "        image_size=(imgHeight, imgWidth),\n",
    "        batch_size=batchsz\n",
    "    )\n",
    "\n",
    "    # Get the class names and number of classes\n",
    "    classNames = trainDataset.class_names\n",
    "    numClasses = len(classNames)\n",
    "\n",
    "    print(\"[INFO] Number of training samples:\", len(trainDataset))\n",
    "    print(\"[INFO] Class names:\", classNames)\n",
    "\n",
    "    # Cache and prefetch the datasets for performance and shuffling dataset sort\n",
    "    autotune = tf.data.AUTOTUNE\n",
    "    trainDataset.cache().shuffle(1000).prefetch(buffer_size=autotune)\n",
    "    validDataset.cache().prefetch(buffer_size=autotune)\n",
    "\n",
    "    # Return the datasets, class names, and number of classes\n",
    "    return trainDataset, validDataset, classNames, numClasses\n",
    "\n",
    "\n"
   ],
   "id": "fb2abb26b0d5ad54",
   "outputs": [],
   "execution_count": 3
  },
  {
   "metadata": {
    "ExecuteTime": {
     "end_time": "2025-08-08T10:18:00.555081Z",
     "start_time": "2025-08-08T10:18:00.552072Z"
    }
   },
   "cell_type": "code",
   "source": [
    "# Function to build the model\n",
    "def buildModel(imgWidth, imgHeight, numClasses):\n",
    "    print(\"[INFO] Building model...\")\n",
    "\n",
    "    # Define the data augmentation layer and the model architecture\n",
    "    dataAugmentation = tf.keras.Sequential([\n",
    "        tf.keras.layers.RandomFlip('horizontal',\n",
    "                                   input_shape=(imgHeight, imgWidth, 3)\n",
    "                                   ),\n",
    "        tf.keras.layers.RandomRotation(0.1),\n",
    "        tf.keras.layers.RandomZoom(0.1)\n",
    "\n",
    "    ])\n",
    "\n",
    "    # Build the model\n",
    "    model = tf.keras.Sequential([\n",
    "        dataAugmentation,\n",
    "        tf.keras.layers.Rescaling(1. / 255),\n",
    "        tf.keras.layers.Conv2D(16,\n",
    "                               3,\n",
    "                               padding='same',\n",
    "                               activation='relu'),\n",
    "        tf.keras.layers.MaxPool2D(),\n",
    "        tf.keras.layers.Conv2D(32,\n",
    "                               3,\n",
    "                               padding='same',\n",
    "                               activation='relu'),\n",
    "        tf.keras.layers.MaxPool2D(),\n",
    "        tf.keras.layers.Conv2D(64,\n",
    "                               3,\n",
    "                               padding='same',\n",
    "                               activation='relu'),\n",
    "        tf.keras.layers.MaxPool2D(),\n",
    "        tf.keras.layers.Dropout(0.2),\n",
    "        tf.keras.layers.Flatten(),\n",
    "        tf.keras.layers.Dense(128,\n",
    "                              activation='relu'),\n",
    "        tf.keras.layers.Dense(numClasses,\n",
    "                              activation='softmax')\n",
    "    ])\n",
    "\n",
    "    return model"
   ],
   "id": "70bae5c2539885c8",
   "outputs": [],
   "execution_count": 4
  },
  {
   "metadata": {
    "ExecuteTime": {
     "end_time": "2025-08-08T10:18:00.562354Z",
     "start_time": "2025-08-08T10:18:00.560669Z"
    }
   },
   "cell_type": "code",
   "source": [
    "# Function to compile the model\n",
    "def compileModel(model):\n",
    "    print(\"[INFO] Compiling model...\")\n",
    "\n",
    "    # Compile the model with the Adam optimizer, sparse categorical crossentropy loss, and accuracy metric\n",
    "    model.compile(\n",
    "        optimizer='adam',\n",
    "        loss=tf.keras.losses.SparseCategoricalCrossentropy(),\n",
    "        metrics=['acc']\n",
    "    )\n",
    "\n",
    "    # Print the model summary\n",
    "    model.summary()"
   ],
   "id": "48bfe6ceb1ec5b2c",
   "outputs": [],
   "execution_count": 5
  },
  {
   "metadata": {
    "ExecuteTime": {
     "end_time": "2025-08-08T10:18:00.569250Z",
     "start_time": "2025-08-08T10:18:00.567440Z"
    }
   },
   "cell_type": "code",
   "source": [
    "# Function to train the model\n",
    "def trainModel(model, epochs, trainDataset, validDataset):\n",
    "    print(\"[INFO] Training model...\")\n",
    "\n",
    "    # Train the model using the training dataset and validate it using the validation dataset\n",
    "    history = model.fit(\n",
    "        trainDataset,\n",
    "        validation_data=validDataset,\n",
    "        epochs=epochs,\n",
    "    )\n",
    "\n",
    "    return history"
   ],
   "id": "4109713ee4f23bba",
   "outputs": [],
   "execution_count": 6
  },
  {
   "metadata": {},
   "cell_type": "markdown",
   "source": "4. Visualize training history",
   "id": "e4c8169131aef689"
  },
  {
   "metadata": {
    "ExecuteTime": {
     "end_time": "2025-08-08T10:18:00.577116Z",
     "start_time": "2025-08-08T10:18:00.574404Z"
    }
   },
   "cell_type": "code",
   "source": [
    "# function to visualize training history\n",
    "def visualizeTrainingHistory(history, epochs):\n",
    "    print(\"[INFO] Visualizing training history...\")\n",
    "\n",
    "    # Extract accuracy and loss from the history\n",
    "    acc = history.history['acc']\n",
    "    valAcc = history.history['val_acc']\n",
    "    loss = history.history['loss']\n",
    "    valLoss = history.history['val_loss']\n",
    "    epochsRange = range(epochs)\n",
    "\n",
    "    # Plot accuracy\n",
    "    plt.figure(figsize=(12, 4))\n",
    "\n",
    "    # Plot training and validation accuracy\n",
    "    plt.figure(figsize=(12, 4))\n",
    "    plt.subplot(1, 2, 1)\n",
    "    plt.plot(epochsRange, acc, label='Akurasi Training')\n",
    "    plt.plot(epochsRange, valAcc, label='Akurasi Validasi')\n",
    "    plt.legend(loc='lower right')\n",
    "    plt.title('Akurasi Training dan Validasi')\n",
    "\n",
    "    # Plot loss\n",
    "    plt.subplot(1, 2, 2)\n",
    "    plt.plot(epochsRange, loss, label='Loss Training')\n",
    "    plt.plot(epochsRange, valLoss, label='Loss Validasi')\n",
    "    plt.legend(loc='upper right')\n",
    "    plt.title('Loss Training dan Validasi')\n",
    "\n",
    "    # Show the plots\n",
    "    plt.show()"
   ],
   "id": "4fe8841193a2fbf1",
   "outputs": [],
   "execution_count": 7
  },
  {
   "metadata": {},
   "cell_type": "markdown",
   "source": "5. Define the main function for classification",
   "id": "3787e5584d3e6b12"
  },
  {
   "metadata": {
    "ExecuteTime": {
     "end_time": "2025-08-08T10:18:00.585253Z",
     "start_time": "2025-08-08T10:18:00.583348Z"
    }
   },
   "cell_type": "code",
   "source": [
    "# Function to perform classification\n",
    "def classification(path, batchSize, imgHeight, imgWidth, epochs):\n",
    "    # 1. Load the dataset\n",
    "    trainDataset, validDataset, classNames, numClasses = loadDataset(\n",
    "        path, batchSize, imgHeight, imgWidth\n",
    "    )\n",
    "\n",
    "    # 2. Build the model\n",
    "    model = buildModel(\n",
    "        imgWidth, imgHeight, numClasses\n",
    "    )\n",
    "\n",
    "    # 3. Compile the model\n",
    "    compileModel(model)\n",
    "\n",
    "    # 4. Train the model\n",
    "    history = trainModel(\n",
    "        model, epochs, trainDataset, validDataset\n",
    "    )\n",
    "\n",
    "    # 5. Save the model\n",
    "    model.save('classification_model.keras')\n",
    "\n",
    "    # 6. Visualize the training history\n",
    "    visualizeTrainingHistory(history, epochs)\n"
   ],
   "id": "bdac0b8144e568d2",
   "outputs": [],
   "execution_count": 8
  },
  {
   "metadata": {
    "ExecuteTime": {
     "end_time": "2025-08-08T10:20:12.991018Z",
     "start_time": "2025-08-08T10:18:00.592229Z"
    }
   },
   "cell_type": "code",
   "source": [
    "# Check the directory of the training dataset\n",
    "if not os.path.exists(parameters['trainDatasetPath']):\n",
    "    print(f\"[ERROR] Training dataset path '{parameters['trainDatasetPath']}' does not exist.\")\n",
    "else:\n",
    "    classification(\n",
    "        parameters['trainDatasetPath'],\n",
    "        parameters['batchSize'],\n",
    "        parameters['imgHeight'],\n",
    "        parameters['imgWidth'],\n",
    "        parameters['epochs']\n",
    "    )"
   ],
   "id": "b35f4635836983f3",
   "outputs": [
    {
     "name": "stdout",
     "output_type": "stream",
     "text": [
      "[INFO] Loading dataset...\n",
      "Found 4317 files belonging to 5 classes.\n",
      "Using 3454 files for training.\n",
      "Found 4317 files belonging to 5 classes.\n",
      "Using 863 files for validation.\n",
      "[INFO] Number of training samples: 108\n",
      "[INFO] Class names: ['daisy', 'dandelion', 'rose', 'sunflower', 'tulip']\n",
      "[INFO] Building model...\n",
      "[INFO] Compiling model...\n"
     ]
    },
    {
     "data": {
      "text/plain": [
       "\u001B[1mModel: \"sequential_1\"\u001B[0m\n"
      ],
      "text/html": [
       "<pre style=\"white-space:pre;overflow-x:auto;line-height:normal;font-family:Menlo,'DejaVu Sans Mono',consolas,'Courier New',monospace\"><span style=\"font-weight: bold\">Model: \"sequential_1\"</span>\n",
       "</pre>\n"
      ]
     },
     "metadata": {},
     "output_type": "display_data"
    },
    {
     "data": {
      "text/plain": [
       "┏━━━━━━━━━━━━━━━━━━━━━━━━━━━━━━━━━┳━━━━━━━━━━━━━━━━━━━━━━━━┳━━━━━━━━━━━━━━━┓\n",
       "┃\u001B[1m \u001B[0m\u001B[1mLayer (type)                   \u001B[0m\u001B[1m \u001B[0m┃\u001B[1m \u001B[0m\u001B[1mOutput Shape          \u001B[0m\u001B[1m \u001B[0m┃\u001B[1m \u001B[0m\u001B[1m      Param #\u001B[0m\u001B[1m \u001B[0m┃\n",
       "┡━━━━━━━━━━━━━━━━━━━━━━━━━━━━━━━━━╇━━━━━━━━━━━━━━━━━━━━━━━━╇━━━━━━━━━━━━━━━┩\n",
       "│ sequential (\u001B[38;5;33mSequential\u001B[0m)         │ (\u001B[38;5;45mNone\u001B[0m, \u001B[38;5;34m180\u001B[0m, \u001B[38;5;34m180\u001B[0m, \u001B[38;5;34m3\u001B[0m)    │             \u001B[38;5;34m0\u001B[0m │\n",
       "├─────────────────────────────────┼────────────────────────┼───────────────┤\n",
       "│ rescaling (\u001B[38;5;33mRescaling\u001B[0m)           │ (\u001B[38;5;45mNone\u001B[0m, \u001B[38;5;34m180\u001B[0m, \u001B[38;5;34m180\u001B[0m, \u001B[38;5;34m3\u001B[0m)    │             \u001B[38;5;34m0\u001B[0m │\n",
       "├─────────────────────────────────┼────────────────────────┼───────────────┤\n",
       "│ conv2d (\u001B[38;5;33mConv2D\u001B[0m)                 │ (\u001B[38;5;45mNone\u001B[0m, \u001B[38;5;34m180\u001B[0m, \u001B[38;5;34m180\u001B[0m, \u001B[38;5;34m16\u001B[0m)   │           \u001B[38;5;34m448\u001B[0m │\n",
       "├─────────────────────────────────┼────────────────────────┼───────────────┤\n",
       "│ max_pooling2d (\u001B[38;5;33mMaxPooling2D\u001B[0m)    │ (\u001B[38;5;45mNone\u001B[0m, \u001B[38;5;34m90\u001B[0m, \u001B[38;5;34m90\u001B[0m, \u001B[38;5;34m16\u001B[0m)     │             \u001B[38;5;34m0\u001B[0m │\n",
       "├─────────────────────────────────┼────────────────────────┼───────────────┤\n",
       "│ conv2d_1 (\u001B[38;5;33mConv2D\u001B[0m)               │ (\u001B[38;5;45mNone\u001B[0m, \u001B[38;5;34m90\u001B[0m, \u001B[38;5;34m90\u001B[0m, \u001B[38;5;34m32\u001B[0m)     │         \u001B[38;5;34m4,640\u001B[0m │\n",
       "├─────────────────────────────────┼────────────────────────┼───────────────┤\n",
       "│ max_pooling2d_1 (\u001B[38;5;33mMaxPooling2D\u001B[0m)  │ (\u001B[38;5;45mNone\u001B[0m, \u001B[38;5;34m45\u001B[0m, \u001B[38;5;34m45\u001B[0m, \u001B[38;5;34m32\u001B[0m)     │             \u001B[38;5;34m0\u001B[0m │\n",
       "├─────────────────────────────────┼────────────────────────┼───────────────┤\n",
       "│ conv2d_2 (\u001B[38;5;33mConv2D\u001B[0m)               │ (\u001B[38;5;45mNone\u001B[0m, \u001B[38;5;34m45\u001B[0m, \u001B[38;5;34m45\u001B[0m, \u001B[38;5;34m64\u001B[0m)     │        \u001B[38;5;34m18,496\u001B[0m │\n",
       "├─────────────────────────────────┼────────────────────────┼───────────────┤\n",
       "│ max_pooling2d_2 (\u001B[38;5;33mMaxPooling2D\u001B[0m)  │ (\u001B[38;5;45mNone\u001B[0m, \u001B[38;5;34m22\u001B[0m, \u001B[38;5;34m22\u001B[0m, \u001B[38;5;34m64\u001B[0m)     │             \u001B[38;5;34m0\u001B[0m │\n",
       "├─────────────────────────────────┼────────────────────────┼───────────────┤\n",
       "│ dropout (\u001B[38;5;33mDropout\u001B[0m)               │ (\u001B[38;5;45mNone\u001B[0m, \u001B[38;5;34m22\u001B[0m, \u001B[38;5;34m22\u001B[0m, \u001B[38;5;34m64\u001B[0m)     │             \u001B[38;5;34m0\u001B[0m │\n",
       "├─────────────────────────────────┼────────────────────────┼───────────────┤\n",
       "│ flatten (\u001B[38;5;33mFlatten\u001B[0m)               │ (\u001B[38;5;45mNone\u001B[0m, \u001B[38;5;34m30976\u001B[0m)          │             \u001B[38;5;34m0\u001B[0m │\n",
       "├─────────────────────────────────┼────────────────────────┼───────────────┤\n",
       "│ dense (\u001B[38;5;33mDense\u001B[0m)                   │ (\u001B[38;5;45mNone\u001B[0m, \u001B[38;5;34m128\u001B[0m)            │     \u001B[38;5;34m3,965,056\u001B[0m │\n",
       "├─────────────────────────────────┼────────────────────────┼───────────────┤\n",
       "│ dense_1 (\u001B[38;5;33mDense\u001B[0m)                 │ (\u001B[38;5;45mNone\u001B[0m, \u001B[38;5;34m5\u001B[0m)              │           \u001B[38;5;34m645\u001B[0m │\n",
       "└─────────────────────────────────┴────────────────────────┴───────────────┘\n"
      ],
      "text/html": [
       "<pre style=\"white-space:pre;overflow-x:auto;line-height:normal;font-family:Menlo,'DejaVu Sans Mono',consolas,'Courier New',monospace\">┏━━━━━━━━━━━━━━━━━━━━━━━━━━━━━━━━━┳━━━━━━━━━━━━━━━━━━━━━━━━┳━━━━━━━━━━━━━━━┓\n",
       "┃<span style=\"font-weight: bold\"> Layer (type)                    </span>┃<span style=\"font-weight: bold\"> Output Shape           </span>┃<span style=\"font-weight: bold\">       Param # </span>┃\n",
       "┡━━━━━━━━━━━━━━━━━━━━━━━━━━━━━━━━━╇━━━━━━━━━━━━━━━━━━━━━━━━╇━━━━━━━━━━━━━━━┩\n",
       "│ sequential (<span style=\"color: #0087ff; text-decoration-color: #0087ff\">Sequential</span>)         │ (<span style=\"color: #00d7ff; text-decoration-color: #00d7ff\">None</span>, <span style=\"color: #00af00; text-decoration-color: #00af00\">180</span>, <span style=\"color: #00af00; text-decoration-color: #00af00\">180</span>, <span style=\"color: #00af00; text-decoration-color: #00af00\">3</span>)    │             <span style=\"color: #00af00; text-decoration-color: #00af00\">0</span> │\n",
       "├─────────────────────────────────┼────────────────────────┼───────────────┤\n",
       "│ rescaling (<span style=\"color: #0087ff; text-decoration-color: #0087ff\">Rescaling</span>)           │ (<span style=\"color: #00d7ff; text-decoration-color: #00d7ff\">None</span>, <span style=\"color: #00af00; text-decoration-color: #00af00\">180</span>, <span style=\"color: #00af00; text-decoration-color: #00af00\">180</span>, <span style=\"color: #00af00; text-decoration-color: #00af00\">3</span>)    │             <span style=\"color: #00af00; text-decoration-color: #00af00\">0</span> │\n",
       "├─────────────────────────────────┼────────────────────────┼───────────────┤\n",
       "│ conv2d (<span style=\"color: #0087ff; text-decoration-color: #0087ff\">Conv2D</span>)                 │ (<span style=\"color: #00d7ff; text-decoration-color: #00d7ff\">None</span>, <span style=\"color: #00af00; text-decoration-color: #00af00\">180</span>, <span style=\"color: #00af00; text-decoration-color: #00af00\">180</span>, <span style=\"color: #00af00; text-decoration-color: #00af00\">16</span>)   │           <span style=\"color: #00af00; text-decoration-color: #00af00\">448</span> │\n",
       "├─────────────────────────────────┼────────────────────────┼───────────────┤\n",
       "│ max_pooling2d (<span style=\"color: #0087ff; text-decoration-color: #0087ff\">MaxPooling2D</span>)    │ (<span style=\"color: #00d7ff; text-decoration-color: #00d7ff\">None</span>, <span style=\"color: #00af00; text-decoration-color: #00af00\">90</span>, <span style=\"color: #00af00; text-decoration-color: #00af00\">90</span>, <span style=\"color: #00af00; text-decoration-color: #00af00\">16</span>)     │             <span style=\"color: #00af00; text-decoration-color: #00af00\">0</span> │\n",
       "├─────────────────────────────────┼────────────────────────┼───────────────┤\n",
       "│ conv2d_1 (<span style=\"color: #0087ff; text-decoration-color: #0087ff\">Conv2D</span>)               │ (<span style=\"color: #00d7ff; text-decoration-color: #00d7ff\">None</span>, <span style=\"color: #00af00; text-decoration-color: #00af00\">90</span>, <span style=\"color: #00af00; text-decoration-color: #00af00\">90</span>, <span style=\"color: #00af00; text-decoration-color: #00af00\">32</span>)     │         <span style=\"color: #00af00; text-decoration-color: #00af00\">4,640</span> │\n",
       "├─────────────────────────────────┼────────────────────────┼───────────────┤\n",
       "│ max_pooling2d_1 (<span style=\"color: #0087ff; text-decoration-color: #0087ff\">MaxPooling2D</span>)  │ (<span style=\"color: #00d7ff; text-decoration-color: #00d7ff\">None</span>, <span style=\"color: #00af00; text-decoration-color: #00af00\">45</span>, <span style=\"color: #00af00; text-decoration-color: #00af00\">45</span>, <span style=\"color: #00af00; text-decoration-color: #00af00\">32</span>)     │             <span style=\"color: #00af00; text-decoration-color: #00af00\">0</span> │\n",
       "├─────────────────────────────────┼────────────────────────┼───────────────┤\n",
       "│ conv2d_2 (<span style=\"color: #0087ff; text-decoration-color: #0087ff\">Conv2D</span>)               │ (<span style=\"color: #00d7ff; text-decoration-color: #00d7ff\">None</span>, <span style=\"color: #00af00; text-decoration-color: #00af00\">45</span>, <span style=\"color: #00af00; text-decoration-color: #00af00\">45</span>, <span style=\"color: #00af00; text-decoration-color: #00af00\">64</span>)     │        <span style=\"color: #00af00; text-decoration-color: #00af00\">18,496</span> │\n",
       "├─────────────────────────────────┼────────────────────────┼───────────────┤\n",
       "│ max_pooling2d_2 (<span style=\"color: #0087ff; text-decoration-color: #0087ff\">MaxPooling2D</span>)  │ (<span style=\"color: #00d7ff; text-decoration-color: #00d7ff\">None</span>, <span style=\"color: #00af00; text-decoration-color: #00af00\">22</span>, <span style=\"color: #00af00; text-decoration-color: #00af00\">22</span>, <span style=\"color: #00af00; text-decoration-color: #00af00\">64</span>)     │             <span style=\"color: #00af00; text-decoration-color: #00af00\">0</span> │\n",
       "├─────────────────────────────────┼────────────────────────┼───────────────┤\n",
       "│ dropout (<span style=\"color: #0087ff; text-decoration-color: #0087ff\">Dropout</span>)               │ (<span style=\"color: #00d7ff; text-decoration-color: #00d7ff\">None</span>, <span style=\"color: #00af00; text-decoration-color: #00af00\">22</span>, <span style=\"color: #00af00; text-decoration-color: #00af00\">22</span>, <span style=\"color: #00af00; text-decoration-color: #00af00\">64</span>)     │             <span style=\"color: #00af00; text-decoration-color: #00af00\">0</span> │\n",
       "├─────────────────────────────────┼────────────────────────┼───────────────┤\n",
       "│ flatten (<span style=\"color: #0087ff; text-decoration-color: #0087ff\">Flatten</span>)               │ (<span style=\"color: #00d7ff; text-decoration-color: #00d7ff\">None</span>, <span style=\"color: #00af00; text-decoration-color: #00af00\">30976</span>)          │             <span style=\"color: #00af00; text-decoration-color: #00af00\">0</span> │\n",
       "├─────────────────────────────────┼────────────────────────┼───────────────┤\n",
       "│ dense (<span style=\"color: #0087ff; text-decoration-color: #0087ff\">Dense</span>)                   │ (<span style=\"color: #00d7ff; text-decoration-color: #00d7ff\">None</span>, <span style=\"color: #00af00; text-decoration-color: #00af00\">128</span>)            │     <span style=\"color: #00af00; text-decoration-color: #00af00\">3,965,056</span> │\n",
       "├─────────────────────────────────┼────────────────────────┼───────────────┤\n",
       "│ dense_1 (<span style=\"color: #0087ff; text-decoration-color: #0087ff\">Dense</span>)                 │ (<span style=\"color: #00d7ff; text-decoration-color: #00d7ff\">None</span>, <span style=\"color: #00af00; text-decoration-color: #00af00\">5</span>)              │           <span style=\"color: #00af00; text-decoration-color: #00af00\">645</span> │\n",
       "└─────────────────────────────────┴────────────────────────┴───────────────┘\n",
       "</pre>\n"
      ]
     },
     "metadata": {},
     "output_type": "display_data"
    },
    {
     "data": {
      "text/plain": [
       "\u001B[1m Total params: \u001B[0m\u001B[38;5;34m3,989,285\u001B[0m (15.22 MB)\n"
      ],
      "text/html": [
       "<pre style=\"white-space:pre;overflow-x:auto;line-height:normal;font-family:Menlo,'DejaVu Sans Mono',consolas,'Courier New',monospace\"><span style=\"font-weight: bold\"> Total params: </span><span style=\"color: #00af00; text-decoration-color: #00af00\">3,989,285</span> (15.22 MB)\n",
       "</pre>\n"
      ]
     },
     "metadata": {},
     "output_type": "display_data"
    },
    {
     "data": {
      "text/plain": [
       "\u001B[1m Trainable params: \u001B[0m\u001B[38;5;34m3,989,285\u001B[0m (15.22 MB)\n"
      ],
      "text/html": [
       "<pre style=\"white-space:pre;overflow-x:auto;line-height:normal;font-family:Menlo,'DejaVu Sans Mono',consolas,'Courier New',monospace\"><span style=\"font-weight: bold\"> Trainable params: </span><span style=\"color: #00af00; text-decoration-color: #00af00\">3,989,285</span> (15.22 MB)\n",
       "</pre>\n"
      ]
     },
     "metadata": {},
     "output_type": "display_data"
    },
    {
     "data": {
      "text/plain": [
       "\u001B[1m Non-trainable params: \u001B[0m\u001B[38;5;34m0\u001B[0m (0.00 B)\n"
      ],
      "text/html": [
       "<pre style=\"white-space:pre;overflow-x:auto;line-height:normal;font-family:Menlo,'DejaVu Sans Mono',consolas,'Courier New',monospace\"><span style=\"font-weight: bold\"> Non-trainable params: </span><span style=\"color: #00af00; text-decoration-color: #00af00\">0</span> (0.00 B)\n",
       "</pre>\n"
      ]
     },
     "metadata": {},
     "output_type": "display_data"
    },
    {
     "name": "stdout",
     "output_type": "stream",
     "text": [
      "[INFO] Training model...\n",
      "Epoch 1/5\n",
      "\u001B[1m108/108\u001B[0m \u001B[32m━━━━━━━━━━━━━━━━━━━━\u001B[0m\u001B[37m\u001B[0m \u001B[1m26s\u001B[0m 232ms/step - acc: 0.4496 - loss: 1.2671 - val_acc: 0.5689 - val_loss: 1.1083\n",
      "Epoch 2/5\n",
      "\u001B[1m108/108\u001B[0m \u001B[32m━━━━━━━━━━━━━━━━━━━━\u001B[0m\u001B[37m\u001B[0m \u001B[1m26s\u001B[0m 241ms/step - acc: 0.5941 - loss: 1.0276 - val_acc: 0.6141 - val_loss: 0.9653\n",
      "Epoch 3/5\n",
      "\u001B[1m108/108\u001B[0m \u001B[32m━━━━━━━━━━━━━━━━━━━━\u001B[0m\u001B[37m\u001B[0m \u001B[1m26s\u001B[0m 245ms/step - acc: 0.6381 - loss: 0.9373 - val_acc: 0.6292 - val_loss: 0.9836\n",
      "Epoch 4/5\n",
      "\u001B[1m108/108\u001B[0m \u001B[32m━━━━━━━━━━━━━━━━━━━━\u001B[0m\u001B[37m\u001B[0m \u001B[1m27s\u001B[0m 246ms/step - acc: 0.6711 - loss: 0.8648 - val_acc: 0.6756 - val_loss: 0.8481\n",
      "Epoch 5/5\n",
      "\u001B[1m108/108\u001B[0m \u001B[32m━━━━━━━━━━━━━━━━━━━━\u001B[0m\u001B[37m\u001B[0m \u001B[1m27s\u001B[0m 246ms/step - acc: 0.6818 - loss: 0.8206 - val_acc: 0.6837 - val_loss: 0.8478\n",
      "[INFO] Visualizing training history...\n"
     ]
    },
    {
     "data": {
      "text/plain": [
       "<Figure size 1200x400 with 0 Axes>"
      ]
     },
     "metadata": {},
     "output_type": "display_data"
    },
    {
     "data": {
      "text/plain": [
       "<Figure size 1200x400 with 2 Axes>"
      ],
      "image/png": "[encoded data removed]"
     },
     "metadata": {},
     "output_type": "display_data"
    }
   ],
   "execution_count": 9
  },
  {
   "metadata": {
    "ExecuteTime": {
     "end_time": "2025-08-08T10:20:13.020551Z",
     "start_time": "2025-08-08T10:20:13.018502Z"
    }
   },
   "cell_type": "code",
   "source": "",
   "id": "ffc3975dd874a0b6",
   "outputs": [],
   "execution_count": null
  }
 ],
 "metadata": {
  "kernelspec": {
   "display_name": "Python 3",
   "language": "python",
   "name": "python3"
  },
  "language_info": {
   "codemirror_mode": {
    "name": "ipython",
    "version": 2
   },
   "file_extension": ".py",
   "mimetype": "text/x-python",
   "name": "python",
   "nbconvert_exporter": "python",
   "pygments_lexer": "ipython2",
   "version": "2.7.6"
  }
 },
 "nbformat": 4,
 "nbformat_minor": 5
}
